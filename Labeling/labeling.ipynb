{
 "cells": [
  {
   "cell_type": "markdown",
   "id": "4a195839-2295-4a20-8404-10ade2c723b9",
   "metadata": {},
   "source": [
    "## **1. 사전 준비**"
   ]
  },
  {
   "cell_type": "markdown",
   "id": "88daf3c2-0e7e-4a61-8f91-c8a4dc7cba4f",
   "metadata": {},
   "source": [
    "### (1) 라벨링 툴(labelimg) 준비"
   ]
  },
  {
   "cell_type": "code",
   "execution_count": 1,
   "id": "af2d102d-d65d-4047-a148-5b1310fad22d",
   "metadata": {},
   "outputs": [
    {
     "name": "stderr",
     "output_type": "stream",
     "text": [
      "Cloning into 'labelImg'...\n"
     ]
    },
    {
     "name": "stdout",
     "output_type": "stream",
     "text": [
      "Requirement already satisfied: pyqt5 in c:\\users\\k\\anaconda3\\lib\\site-packages (5.15.11)\n",
      "Requirement already satisfied: lxml in c:\\users\\k\\anaconda3\\lib\\site-packages (5.3.0)\n",
      "Requirement already satisfied: PyQt5-sip<13,>=12.15 in c:\\users\\k\\anaconda3\\lib\\site-packages (from pyqt5) (12.15.0)\n",
      "Requirement already satisfied: PyQt5-Qt5<5.16.0,>=5.15.2 in c:\\users\\k\\anaconda3\\lib\\site-packages (from pyqt5) (5.15.2)\n"
     ]
    }
   ],
   "source": [
    "!git clone https://github.com/heartexlabs/labelImg\n",
    "\n",
    "# labelimg 실행하기 위해 pyqt5 및 필요 패키지 다운로드\n",
    "!pip install pyqt5 lxml --upgrade\n",
    "!cd labelImg & pyrcc5 -o libs/resources.py resources.qrc"
   ]
  },
  {
   "cell_type": "markdown",
   "id": "c21a1aa2-72d2-47ba-a7dd-7a7676eb12cb",
   "metadata": {},
   "source": [
    "### (2) 필요한 폴더 생성 및 경로 지정"
   ]
  },
  {
   "cell_type": "code",
   "execution_count": 5,
   "id": "abe57ced-9327-4237-8d75-ddc3579fda8c",
   "metadata": {},
   "outputs": [],
   "source": [
    "import os\n",
    "\n",
    "# 특정 경로 설정 (OneDrive의 바탕 화면 경로)\n",
    "desktop_path = r\"C:/Users/k/Desktop\"\n",
    "\n",
    "# 상위 폴더 경로 설정\n",
    "data_labeling_path = os.path.join(desktop_path, 'data labeling')\n",
    "\n",
    "# 하위 폴더 경로 설정\n",
    "image_folder_path = os.path.join(data_labeling_path, 'image')\n",
    "label_folder_path = os.path.join(data_labeling_path, 'labels')\n",
    "output_folder_path = os.path.join(data_labeling_path, 'output_img')\n",
    "\n",
    "# 폴더가 존재하지 않으면 생성\n",
    "os.makedirs(image_folder_path, exist_ok=True)\n",
    "os.makedirs(label_folder_path, exist_ok=True)\n",
    "os.makedirs(output_folder_path, exist_ok=True)"
   ]
  },
  {
   "cell_type": "markdown",
   "id": "882d1d9e-c439-4dfb-8153-c8edf6e0279d",
   "metadata": {},
   "source": [
    "## **2. 분류 품목(Classe) 정의**"
   ]
  },
  {
   "cell_type": "code",
   "execution_count": 3,
   "id": "a80841b3-d550-4e27-a5e4-f2805b14cef2",
   "metadata": {},
   "outputs": [
    {
     "name": "stdout",
     "output_type": "stream",
     "text": [
      "성공\n"
     ]
    }
   ],
   "source": [
    "# predefined_classes로 변경할 내용\n",
    "new_classes = \"\"\"\n",
    "\"\"\"\n",
    "# predefined_classes.txt 파일 경로\n",
    "file_path = \"labelimg/data/predefined_classes.txt\"\n",
    "\n",
    "# predefined_classes.txt 파일이 존재하면 내용 변경\n",
    "if os.path.exists(file_path):\n",
    "    with open(file_path, \"w\") as file:\n",
    "        file.write(new_classes)\n",
    "    print(\"성공\")\n",
    "else:\n",
    "    print(\"파일 없음\")"
   ]
  },
  {
   "cell_type": "markdown",
   "id": "3efcfaf8-5532-40b4-8d17-9769ced654ac",
   "metadata": {},
   "source": [
    "## **3. 라벨링 툴 실행**"
   ]
  },
  {
   "cell_type": "code",
   "execution_count": 4,
   "id": "92ad610f-bbf5-479c-9bcf-ebc87741e480",
   "metadata": {},
   "outputs": [
    {
     "name": "stdout",
     "output_type": "stream",
     "text": [
      "C:\\Users\\sysan\\labelimg\n"
     ]
    },
    {
     "name": "stderr",
     "output_type": "stream",
     "text": [
      "C:\\Users\\sysan\\AppData\\Local\\anaconda3\\envs\\sysanal\\lib\\site-packages\\IPython\\core\\magics\\osm.py:417: UserWarning: This is now an optional IPython functionality, setting dhist requires you to install the `pickleshare` library.\n",
      "  self.shell.db['dhist'] = compress_dhist(dhist)[-100:]\n"
     ]
    }
   ],
   "source": [
    "cd labelimg"
   ]
  },
  {
   "cell_type": "code",
   "execution_count": 5,
   "id": "55846a40-769f-4ad9-878b-1429cbea370d",
   "metadata": {},
   "outputs": [],
   "source": [
    "!python labelimg.py"
   ]
  },
  {
   "cell_type": "markdown",
   "id": "4b390055-3110-4a51-9dd2-dc316a119005",
   "metadata": {},
   "source": [
    "## **4. 라벨링 결과 검토**"
   ]
  },
  {
   "cell_type": "markdown",
   "id": "fd169c97-1c14-429a-910e-03952addb149",
   "metadata": {},
   "source": [
    "### (1) 라벨링 완료된 파일 별도 저장"
   ]
  },
  {
   "cell_type": "code",
   "execution_count": 6,
   "id": "fa7e891f-4483-491f-84d6-e224f6c7b95a",
   "metadata": {},
   "outputs": [],
   "source": [
    "import shutil\n",
    "\n",
    "# 이미지 폴더와 라벨 폴더의 파일 목록 가져오기\n",
    "image_files = os.listdir(image_folder_path)\n",
    "label_files = os.listdir(label_folder_path)\n",
    "\n",
    "# 이미지 파일명과 라벨 파일명이 일치하는 경우 해당 이미지를 복사하여 출력 폴더에 저장\n",
    "for label_file in label_files:\n",
    "    # 라벨 파일의 이름과 확장자 분리\n",
    "    label_name, label_ext = os.path.splitext(label_file)\n",
    "    \n",
    "    # 이미지 폴더에서 해당하는 이미지 파일 찾기\n",
    "    for image_file in image_files:\n",
    "        # 이미지 파일의 이름과 확장자 분리\n",
    "        image_name, image_ext = os.path.splitext(image_file)\n",
    "        \n",
    "        # 이미지 파일의 이름이 라벨 파일의 이름과 일치하는지 확인\n",
    "        if image_name == label_name:\n",
    "            # 이미지 파일을 출력 폴더로 복사\n",
    "            src_image_path = os.path.join(image_folder_path, image_file)\n",
    "            dest_image_path = os.path.join(output_folder_path, image_file)\n",
    "            shutil.copyfile(src_image_path, dest_image_path)"
   ]
  },
  {
   "cell_type": "markdown",
   "id": "6bd325a9",
   "metadata": {},
   "source": [
    "반대 경우"
   ]
  },
  {
   "cell_type": "code",
   "execution_count": 7,
   "id": "46da7bb4",
   "metadata": {},
   "outputs": [],
   "source": [
    "import shutil\n",
    "# 이미지 폴더와 라벨 폴더의 파일 목록 가져오기\n",
    "image_files = os.listdir(image_folder_path)\n",
    "label_files = os.listdir(label_folder_path)\n",
    "\n",
    "# 이미지 파일명과 일치하는 라벨 파일을 output_folder_path1에 복사\n",
    "for image_file in image_files:\n",
    "    # 이미지 파일의 이름과 확장자 분리\n",
    "    image_name, image_ext = os.path.splitext(image_file)\n",
    "    \n",
    "    # 라벨 파일 중에서 이미지 파일과 같은 이름을 가진 라벨 파일 찾기\n",
    "    for label_file in label_files:\n",
    "        # 라벨 파일의 이름과 확장자 분리\n",
    "        label_name, label_ext = os.path.splitext(label_file)\n",
    "        \n",
    "        # 이미지 파일의 이름이 라벨 파일의 이름과 일치하는지 확인\n",
    "        if image_name == label_name:\n",
    "            # 라벨 파일을 출력 폴더로 복사\n",
    "            src_label_path = os.path.join(label_folder_path, label_file)\n",
    "            dest_label_path = os.path.join(output_folder_path1, label_file)\n",
    "            shutil.copyfile(src_label_path, dest_label_path)\n",
    "            break  # 같은 이름을 가진 라벨 파일을 찾으면 반복문 종료\n"
   ]
  },
  {
   "cell_type": "markdown",
   "id": "8b0eece9-28b5-4e4a-b9fa-9db47e336412",
   "metadata": {},
   "source": [
    "### (2) 불완전한 라벨 파일 식별"
   ]
  },
  {
   "cell_type": "code",
   "execution_count": 12,
   "id": "fcf73f34-bd51-4761-a979-ce7cf0d0fd03",
   "metadata": {},
   "outputs": [],
   "source": [
    "# 라벨 폴더의 파일 목록 가져오기\n",
    "label_files = os.listdir(label_folder_path)\n",
    "\n",
    "# 내용이 비어있는 txt 파일 찾기\n",
    "for label_file in label_files:\n",
    "    # 파일 경로 생성\n",
    "    file_path = os.path.join(label_folder_path, label_file)\n",
    "    # 파일이 txt 파일인지 확인\n",
    "    if label_file.endswith('.txt'):\n",
    "        # 파일의 내용을 읽어서 비어있는지 확인\n",
    "        with open(file_path, 'r', encoding='utf-8') as file:\n",
    "            content = file.read().strip()\n",
    "            # 내용이 비어있으면 파일명 출력\n",
    "            if not content:\n",
    "                print(f\"내용이 비어있는 파일: {label_file}\")"
   ]
  },
  {
   "cell_type": "markdown",
   "id": "df761ddb-9720-4fbf-aca3-90fa2a06e219",
   "metadata": {},
   "source": [
    "### (3) 품목(Classe)별 결과 요약 "
   ]
  },
  {
   "cell_type": "code",
   "execution_count": 11,
   "id": "cf4dbb3b-7b84-40c9-9418-290d1afe7788",
   "metadata": {},
   "outputs": [
    {
     "name": "stdout",
     "output_type": "stream",
     "text": [
      "각 숫자별 카운트:\n",
      "refrigerator_xs: 0\n",
      "refrigerator_s: 3\n",
      "refrigerator_m: 0\n",
      "refrigerator_l: 0\n",
      "refrigerator_xl1: 0\n",
      "refrigerator_xl2: 0\n",
      "top_loading_washer: 1\n",
      "front_loading_washer: 1\n",
      "air_conditioner: 0\n",
      "outdoor_condenser: 0\n",
      "allinone_air_conditioner: 0\n",
      "solar_panel: 0\n",
      "crt_tv: 1\n",
      "lcd_tv: 9\n",
      "projection_tv: 0\n",
      "electric_oven: 0\n",
      "air_cleaner: 3\n",
      "dishwasher: 0\n",
      "vending_machine_s: 0\n",
      "vending_machine_l: 0\n",
      "treadmill: 1\n",
      "copy_machine: 4\n",
      "water_dispenser: 1\n",
      "microwave: 11\n",
      "dehumidifier: 2\n",
      "audio_set: 0\n",
      "pc_set: 1\n",
      "electric_massager_chair: 0\n",
      "inverter: 0\n",
      "other_parts: 0\n",
      "computer_tower: 16\n",
      "laptop: 0\n",
      "monitor_crt: 0\n",
      "monitor_lcd: 6\n",
      "laser_printer: 29\n",
      "non_laser_printer: 0\n",
      "facsimile: 0\n",
      "audio_main: 0\n",
      "audio_speaker: 0\n",
      "audio_portable: 0\n",
      "food_waste_disposer: 0\n",
      "electric_heater: 0\n",
      "electric_bidet: 0\n",
      "vacuum_cleaner: 36\n",
      "fan: 33\n",
      "humidifier: 0\n",
      "electric_iron: 0\n",
      "mixer_juicer: 0\n",
      "video_player: 0\n",
      "electric_rice_cooker: 25\n",
      "hair_dryer: 0\n",
      "induction_cooker: 0\n",
      "water_softener: 0\n",
      "scanner: 0\n",
      "beamer: 0\n",
      "router: 0\n",
      "toaster: 0\n",
      "electric_kettle: 0\n",
      "electric_water_heater: 0\n",
      "electric_frying_pan: 0\n",
      "surveillance_camera_cctv: 0\n",
      "food_dehydrator: 0\n",
      "electric_massager_nonchair: 0\n",
      "foot_bath: 0\n",
      "sewing_machine: 0\n",
      "video_game_console: 0\n",
      "bread_maker: 0\n",
      "fryer: 0\n",
      "coffee_maker: 0\n",
      "herbal_boiler: 0\n",
      "navigation: 0\n",
      "mobile_phone: 0\n",
      "총 개수: 183\n"
     ]
    }
   ],
   "source": [
    "# 문자열을 줄바꿈 문자로 분리하여 리스트로 변환\n",
    "classes = new_classes.strip().split('\\n')\n",
    "\n",
    "# 파일 목록 가져오기\n",
    "file_list = [f for f in os.listdir(label_folder_path) if f.endswith('.txt')]\n",
    "\n",
    "# 각 숫자의 카운트를 저장할 딕셔너리 생성\n",
    "number_counts = {i: 0 for i in range(len(classes))}\n",
    "\n",
    "# 전체 카운트 변수 초기화\n",
    "total_count = 0\n",
    "\n",
    "# 각 파일에 대해 반복\n",
    "for file_name in file_list:\n",
    "    file_path = os.path.join(label_folder_path, file_name)\n",
    "    with open(file_path, 'r') as file:\n",
    "        lines = file.readlines()\n",
    "        for line in lines:\n",
    "            # 줄의 첫 번째 문자가 숫자인지 확인하고 카운트\n",
    "            if line.strip() and line[0].isdigit():\n",
    "                # 첫 번째 스페이스 앞의 두 자리 숫자 가져오기\n",
    "                first_number = int(line.split()[0])\n",
    "                number_counts[first_number] += 1\n",
    "                total_count += 1\n",
    "\n",
    "# 결과 출력\n",
    "print(\"각 숫자별 카운트:\")\n",
    "for number, count in number_counts.items():\n",
    "    class_name = classes[number]\n",
    "    print(f\"{class_name}: {count}\")\n",
    "\n",
    "print(f\"총 개수: {total_count}\")"
   ]
  },
  {
   "cell_type": "code",
   "execution_count": 10,
   "id": "922846cf",
   "metadata": {},
   "outputs": [
    {
     "name": "stdout",
     "output_type": "stream",
     "text": [
      "다음 라벨 파일에서 'electric_massager_chair' 클래스(인덱스 27)를 찾았습니다:\n",
      "202301091107498939061993.txt\n"
     ]
    }
   ],
   "source": [
    "# 클래스 목록을 리스트로 변환하고 인덱스로 매핑\n",
    "class_list = new_classes.splitlines()\n",
    "\n",
    "# 'electric_massager_chair' 클래스의 인덱스를 찾음\n",
    "target_class = \"electric_massager_chair\"\n",
    "target_index = class_list.index(target_class)\n",
    "\n",
    "\n",
    "# 해당 클래스 인덱스가 포함된 라벨 파일 이름을 저장할 리스트\n",
    "matching_label_files = []\n",
    "\n",
    "# 라벨 파일 목록 가져오기\n",
    "label_files = os.listdir(output_folder_path1)\n",
    "\n",
    "# 각 라벨 파일을 열고 내용을 확인\n",
    "for label_file in label_files:\n",
    "    label_path = os.path.join(output_folder_path1, label_file)\n",
    "    \n",
    "    # 라벨 파일 열기\n",
    "    with open(label_path, 'r') as file:\n",
    "        # 파일 내용을 한 줄씩 읽음\n",
    "        lines = file.readlines()\n",
    "        \n",
    "        # 각 줄에서 클래스 인덱스를 찾음\n",
    "        for line in lines:\n",
    "            # 줄을 공백으로 분리하여 클래스 인덱스 확인\n",
    "            label_data = line.split()\n",
    "            if len(label_data) > 0 and label_data[0].isdigit():\n",
    "                # 클래스 인덱스가 target_index와 일치하는지 확인\n",
    "                if int(label_data[0]) == target_index:\n",
    "                    matching_label_files.append(label_file)\n",
    "                    break  # 해당 클래스가 포함된 파일을 찾으면 더 이상 확인할 필요가 없음\n",
    "\n",
    "# 결과 출력\n",
    "if matching_label_files:\n",
    "    print(f\"다음 라벨 파일에서 '{target_class}' 클래스(인덱스 {target_index})를 찾았습니다:\")\n",
    "    for label_file in matching_label_files:\n",
    "        print(label_file)\n",
    "else:\n",
    "    print(f\"'{target_class}' 클래스를 포함한 라벨 파일을 찾지 못했습니다.\")"
   ]
  }
 ],
 "metadata": {
  "kernelspec": {
   "display_name": "venv_YOLO",
   "language": "python",
   "name": "venv_yolo"
  },
  "language_info": {
   "codemirror_mode": {
    "name": "ipython",
    "version": 3
   },
   "file_extension": ".py",
   "mimetype": "text/x-python",
   "name": "python",
   "nbconvert_exporter": "python",
   "pygments_lexer": "ipython3",
   "version": "3.11.7"
  }
 },
 "nbformat": 4,
 "nbformat_minor": 5
}
