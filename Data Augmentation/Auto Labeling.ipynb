{
 "cells": [
  {
   "cell_type": "markdown",
   "id": "1f902140",
   "metadata": {},
   "source": [
    "# 라이브러리"
   ]
  },
  {
   "cell_type": "code",
   "execution_count": 1,
   "id": "850f6792",
   "metadata": {},
   "outputs": [
    {
     "name": "stdout",
     "output_type": "stream",
     "text": [
      "Requirement already satisfied: opencv-python in c:\\users\\user\\anaconda3\\envs\\yolov8n\\lib\\site-packages (4.10.0.84)\n",
      "Requirement already satisfied: numpy>=1.21.2 in c:\\users\\user\\anaconda3\\envs\\yolov8n\\lib\\site-packages (from opencv-python) (1.26.4)\n",
      "Note: you may need to restart the kernel to use updated packages.\n"
     ]
    }
   ],
   "source": [
    "pip install opencv-python\n"
   ]
  },
  {
   "cell_type": "code",
   "execution_count": 1,
   "id": "b0a520a6",
   "metadata": {},
   "outputs": [],
   "source": [
    "import torch\n",
    "from pathlib import Path\n",
    "import pandas as pd\n",
    "import cv2\n",
    "import os\n",
    "from ultralytics import YOLO"
   ]
  },
  {
   "cell_type": "markdown",
   "id": "7b94ae0c",
   "metadata": {},
   "source": [
    "# YOLO모델 load 및 파일 경로"
   ]
  },
  {
   "cell_type": "code",
   "execution_count": 11,
   "id": "bc72a685",
   "metadata": {},
   "outputs": [],
   "source": [
    "# 로컬에 저장된 YOLO 모델의 가중치 파일 경로 설정 C:\\Users\\User\\Desktop\n",
    "model_weights = 'C:/Users/User/Desktop/Auto Labeling/best.pt'  # 실제 경로로 변경\n",
    "\n",
    "# # YOLOv5 모델 로드\n",
    "# model = torch.hub.load('ultralytics/yolov8n', 'custom', path=model_weights)\n",
    "\n",
    "# YOLOv8n\n",
    "model = YOLO(model_weights)\n",
    "\n",
    "# 라벨링할 데이터 경로 설정\n",
    "dataset_directory = 'C:/Users/User/Desktop/Auto Labeling/contrast_up/images'\n",
    "output_directory = 'C:/Users/User/Desktop/Auto Labeling/contrast_up/labels'\n",
    "Path(output_directory).mkdir(parents=True, exist_ok=True)"
   ]
  },
  {
   "cell_type": "markdown",
   "id": "c3c02735",
   "metadata": {},
   "source": [
    "# CSV -> YOLO 라벨형식 변환"
   ]
  },
  {
   "cell_type": "code",
   "execution_count": 6,
   "id": "8d904b78",
   "metadata": {},
   "outputs": [],
   "source": [
    "# YOLO 포맷의 라벨링 파일 저장 함수\n",
    "def save_yolo_format(label_data, label_file_path, img_height, img_width):\n",
    "\n",
    "    with open(label_file_path, 'a') as f:  # 'a' 모드를 사용하여 파일에 내용을 추가합니다.\n",
    "        for _, row in label_data.iterrows():\n",
    "            class_id = int(row['class'])\n",
    "\n",
    "            # 바운딩 박스 좌표 계산\n",
    "            x_center = ((row['xmin'] + row['xmax']) / 2) / img_width\n",
    "            y_center = ((row['ymin'] + row['ymax']) / 2) / img_height\n",
    "            width = (row['xmax'] - row['xmin']) / img_width\n",
    "            height = (row['ymax'] - row['ymin']) / img_height\n",
    "            # YOLO 포맷으로 라벨 기록\n",
    "            f.write(f\"{class_id} {x_center} {y_center} {width} {height}\\n\")"
   ]
  },
  {
   "cell_type": "markdown",
   "id": "0f392ef3",
   "metadata": {},
   "source": [
    "# 오토라벨링"
   ]
  },
  {
   "cell_type": "markdown",
   "id": "de91dc8b",
   "metadata": {},
   "source": [
    "label만"
   ]
  },
  {
   "cell_type": "code",
   "execution_count": 7,
   "id": "0d3cdb6f",
   "metadata": {},
   "outputs": [],
   "source": [
    "# 오토라벨링 함수 정의\n",
    "def autolabel_images(directory):\n",
    "    current_img_name = None\n",
    "    label_file_path = None\n",
    "\n",
    "    for img_path in Path(directory).glob('*.png'):  # .png 확장자의 이미지 파일 처리\n",
    "        results = model(str(img_path))  # 이미지 예측 수행\n",
    "        result = results[0]  # 결과의 첫 번째 요소 가져오기\n",
    "        boxes = result.boxes  # 바운딩 박스 정보 가져오기\n",
    "        \n",
    "        # 이미지 크기 가져오기\n",
    "        img = cv2.imread(str(img_path))\n",
    "        img_height, img_width = img.shape[:2]  # 이미지의 height와 width 추출\n",
    "\n",
    "        # boxes 객체를 데이터프레임으로 변환\n",
    "        if boxes is not None and len(boxes) > 0:\n",
    "            labels = boxes.data.cpu().numpy()  # 바운딩 박스 데이터를 NumPy 배열로 변환\n",
    "            labels_df = pd.DataFrame(labels, columns=['xmin', 'ymin', 'xmax', 'ymax', 'confidence', 'class'])\n",
    "\n",
    "            # 이미지 파일 이름이 바뀌면 새로 설정\n",
    "            if img_path.stem != current_img_name:\n",
    "                current_img_name = img_path.stem\n",
    "                label_file_path = Path(output_directory) / f\"{current_img_name}.txt\"\n",
    "                # 기존의 동일한 이름의 파일이 있으면 삭제\n",
    "                if label_file_path.exists():\n",
    "                    label_file_path.unlink()\n",
    "\n",
    "            if not labels_df.empty:\n",
    "                save_yolo_format(labels_df, label_file_path, img_height, img_width)\n",
    "            else:\n",
    "                print(f\"No objects detected in {img_path.name}\")"
   ]
  },
  {
   "cell_type": "markdown",
   "id": "5ef08858",
   "metadata": {},
   "source": [
    "# 실행"
   ]
  },
  {
   "cell_type": "code",
   "execution_count": 12,
   "id": "3f6e082c",
   "metadata": {},
   "outputs": [
    {
     "name": "stdout",
     "output_type": "stream",
     "text": [
      "\n",
      "image 1/1 C:\\Users\\User\\Desktop\\Auto Labeling\\contrast_up\\images\\202301060737399559064817.png: 640x480 1 lcd_tv, 10.0ms\n",
      "Speed: 1.0ms preprocess, 10.0ms inference, 1.0ms postprocess per image at shape (1, 3, 640, 480)\n",
      "\n",
      "image 1/1 C:\\Users\\User\\Desktop\\Auto Labeling\\contrast_up\\images\\202301110550574739059044.png: 480x640 1 vending_machine_s, 9.0ms\n",
      "Speed: 1.0ms preprocess, 9.0ms inference, 1.0ms postprocess per image at shape (1, 3, 480, 640)\n",
      "\n",
      "image 1/1 C:\\Users\\User\\Desktop\\Auto Labeling\\contrast_up\\images\\202301110629385809083216.png: 640x480 (no detections), 9.0ms\n",
      "Speed: 1.0ms preprocess, 9.0ms inference, 1.0ms postprocess per image at shape (1, 3, 640, 480)\n",
      "\n",
      "image 1/1 C:\\Users\\User\\Desktop\\Auto Labeling\\contrast_up\\images\\202301110645107369076908.png: 640x288 1 dishwasher, 9.0ms\n",
      "Speed: 1.0ms preprocess, 9.0ms inference, 1.0ms postprocess per image at shape (1, 3, 640, 288)\n"
     ]
    }
   ],
   "source": [
    "# 오토라벨링 실행\n",
    "autolabel_images(dataset_directory)"
   ]
  }
 ],
 "metadata": {
  "kernelspec": {
   "display_name": "yolov8n",
   "language": "python",
   "name": "yolov8n"
  },
  "language_info": {
   "codemirror_mode": {
    "name": "ipython",
    "version": 3
   },
   "file_extension": ".py",
   "mimetype": "text/x-python",
   "name": "python",
   "nbconvert_exporter": "python",
   "pygments_lexer": "ipython3",
   "version": "3.12.4"
  },
  "toc": {
   "base_numbering": 1,
   "nav_menu": {},
   "number_sections": true,
   "sideBar": true,
   "skip_h1_title": false,
   "title_cell": "Table of Contents",
   "title_sidebar": "Contents",
   "toc_cell": false,
   "toc_position": {},
   "toc_section_display": true,
   "toc_window_display": false
  }
 },
 "nbformat": 4,
 "nbformat_minor": 5
}
