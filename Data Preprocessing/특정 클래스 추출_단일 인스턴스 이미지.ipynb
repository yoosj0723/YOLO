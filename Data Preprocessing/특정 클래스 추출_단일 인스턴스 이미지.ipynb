{
 "cells": [
  {
   "cell_type": "code",
   "execution_count": 4,
   "id": "f1d3314e",
   "metadata": {},
   "outputs": [],
   "source": [
    "import os\n",
    "import shutil\n",
    "\n",
    "# 경로 설정 \n",
    "input_imagefolder_path = \"C:/Users/rund6/Desktop/1030/dataset_CNN/input_imagefolder_path\"\n",
    "input_labelfolder_path = \"C:/Users/rund6/Desktop/1030/dataset_CNN/input_labelfolder_path\"\n",
    "output_imagefolder_path = \"C:/Users/rund6/Desktop/1030/dataset_CNN/output_imagefolder_path\"\n",
    "output_labelfolder_path = \"C:/Users/rund6/Desktop/1030/dataset_CNN/output_labelfolder_path\"\n",
    "\n",
    "# 추출할 클래스 지정\n",
    "whole_classes = [\n",
    "    \"refrigerator_xs\", \"refrigerator_s\", \"refrigerator_m\", \"refrigerator_l\", \"refrigerator_xl1\", \n",
    "    \"refrigerator_xl2\", \"top_loading_washer\", \"front_loading_washer\", \"air_conditioner\", \n",
    "    \"outdoor_condenser\", \"allinone_air_conditioner\", \"solar_panel\", \"crt_tv\", \"lcd_tv\", \n",
    "    \"projection_tv\", \"electric_oven\", \"air_cleaner\", \"dishwasher\", \"vending_machine_s\", \n",
    "    \"vending_machine_l\", \"treadmill\", \"copy_machine\", \"water_dispenser\", \"microwave\", \n",
    "    \"dehumidifier\", \"audio_set\", \"pc_set\", \"electric_massager_chair\", \"inverter\", \n",
    "    \"other_parts\", \"computer_tower\", \"laptop\", \"monitor_crt\", \"monitor_lcd\", \n",
    "    \"laser_printer\", \"non_laser_printer\", \"facsimile\", \"audio_main\", \"audio_speaker\", \n",
    "    \"audio_portable\", \"food_waste_disposer\", \"electric_heater\", \"electric_bidet\", \n",
    "    \"vacuum_cleaner\", \"fan\", \"humidifier\", \"electric_iron\", \"mixer_juicer\", \n",
    "    \"video_player\", \"electric_rice_cooker\", \"hair_dryer\", \"induction_cooker\", \n",
    "    \"water_softener\", \"scanner\", \"beamer\", \"router\", \"toaster\", \"electric_kettle\", \n",
    "    \"electric_water_heater\", \"electric_frying_pan\", \"surveillance_camera_cctv\", \n",
    "    \"food_dehydrator\", \"electric_massager_nonchair\", \"foot_bath\", \"sewing_machine\", \n",
    "    \"video_game_console\", \"bread_maker\", \"fryer\", \"coffee_maker\", \"herbal_boiler\", \n",
    "    \"navigation\", \"mobile_phone\"\n",
    "]\n",
    "extract_class = [\"air_cleaner\"]  # 원하는 클래스 이름들로 채워주세요\n",
    "\n",
    "# 디렉토리가 없는 경우 생성\n",
    "os.makedirs(output_imagefolder_path, exist_ok=True)\n",
    "os.makedirs(output_labelfolder_path, exist_ok=True)\n",
    "\n",
    "# 작업 수행\n",
    "for label_file in os.listdir(input_labelfolder_path):\n",
    "    label_path = os.path.join(input_labelfolder_path, label_file)\n",
    "    image_path = os.path.join(input_imagefolder_path, label_file.replace(\".txt\", \".png\"))\n",
    "\n",
    "    # 라벨 파일 읽기\n",
    "    with open(label_path, \"r\") as f:\n",
    "        lines = f.readlines()\n",
    "\n",
    "    # 라벨이 한 줄만 있고, 그 클래스가 추출 대상 클래스에 포함되는지 확인\n",
    "    if len(lines) == 1:\n",
    "        class_id = int(lines[0].split()[0])  # 클래스 ID 추출\n",
    "        class_name = whole_classes[class_id]  # 클래스 이름으로 변환\n",
    "\n",
    "        if class_name in extract_class:\n",
    "            # 조건을 만족하는 이미지와 라벨 파일을 출력 폴더에 복사\n",
    "            shutil.copy(image_path, output_imagefolder_path)\n",
    "            shutil.copy(label_path, output_labelfolder_path)"
   ]
  }
 ],
 "metadata": {
  "kernelspec": {
   "display_name": "Python 3 (ipykernel)",
   "language": "python",
   "name": "python3"
  },
  "language_info": {
   "codemirror_mode": {
    "name": "ipython",
    "version": 3
   },
   "file_extension": ".py",
   "mimetype": "text/x-python",
   "name": "python",
   "nbconvert_exporter": "python",
   "pygments_lexer": "ipython3",
   "version": "3.11.5"
  },
  "toc": {
   "base_numbering": 1,
   "nav_menu": {},
   "number_sections": true,
   "sideBar": true,
   "skip_h1_title": false,
   "title_cell": "Table of Contents",
   "title_sidebar": "Contents",
   "toc_cell": false,
   "toc_position": {},
   "toc_section_display": true,
   "toc_window_display": false
  }
 },
 "nbformat": 4,
 "nbformat_minor": 5
}
