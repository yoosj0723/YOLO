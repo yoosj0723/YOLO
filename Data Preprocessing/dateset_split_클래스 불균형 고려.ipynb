{
 "cells": [
  {
   "cell_type": "markdown",
   "id": "361a0ff8",
   "metadata": {},
   "source": [
    "# 라이브러리"
   ]
  },
  {
   "cell_type": "code",
   "execution_count": null,
   "id": "196f7b44",
   "metadata": {},
   "outputs": [],
   "source": [
    "import os\n",
    "import shutil\n",
    "import pandas as pd\n",
    "from sklearn.model_selection import train_test_split"
   ]
  },
  {
   "cell_type": "markdown",
   "id": "ff6a04e6",
   "metadata": {},
   "source": [
    "# 경로설정"
   ]
  },
  {
   "cell_type": "code",
   "execution_count": null,
   "id": "f7f9c574",
   "metadata": {},
   "outputs": [],
   "source": [
    "# 이미지와 라벨 경로 설정\n",
    "image_dir = 'path_to_images'  # 이미지가 있는 디렉토리 경로\n",
    "label_dir = 'path_to_labels'  # 라벨이 있는 디렉토리 경로\n",
    "output_dir1 = 'output_dir1'   # 첫 번째 출력 디렉토리\n",
    "output_dir2 = 'output_dir2'   # 두 번째 출력 디렉토리"
   ]
  },
  {
   "cell_type": "markdown",
   "id": "16c4cea1",
   "metadata": {},
   "source": [
    "# 함수"
   ]
  },
  {
   "cell_type": "code",
   "execution_count": null,
   "id": "83884dba",
   "metadata": {},
   "outputs": [],
   "source": [
    "# 클래스 정보를 읽어오기 (여기서는 라벨 파일의 첫 번째 라인을 읽는다고 가정)\n",
    "def read_first_class_label(label_file):\n",
    "    with open(os.path.join(label_dir, label_file), 'r') as file:\n",
    "        line = file.readline().strip()\n",
    "        class_label = line.split(' ')[0]  # 클래스 라벨이 첫 번째 요소라고 가정\n",
    "        return class_label"
   ]
  },
  {
   "cell_type": "markdown",
   "id": "591af2ab",
   "metadata": {},
   "source": [
    "# 실행"
   ]
  },
  {
   "cell_type": "code",
   "execution_count": null,
   "id": "2634b16f",
   "metadata": {},
   "outputs": [],
   "source": [
    "# 모든 이미지와 라벨 파일 리스트 불러오기\n",
    "image_files = sorted([f for f in os.listdir(image_dir) if f.endswith('.jpg')])\n",
    "label_files = sorted([f for f in os.listdir(label_dir) if f.endswith('.txt')])\n",
    "\n",
    "# 이미지 파일과 라벨 파일 매핑\n",
    "data = pd.DataFrame({'image': image_files, 'label': label_files})\n",
    "\n",
    "data['class'] = data['label'].apply(read_first_class_label)\n",
    "\n",
    "# 각 클래스별로 데이터 나누기\n",
    "output_data1 = pd.DataFrame()\n",
    "output_data2 = pd.DataFrame()\n",
    "\n",
    "for class_label, group in data.groupby('class'):\n",
    "    group1, group2 = train_test_split(group, test_size=0.5, random_state=42)\n",
    "    output_data1 = pd.concat([output_data1, group1])\n",
    "    output_data2 = pd.concat([output_data2, group2])\n",
    "\n",
    "# 첫 번째 폴더로 파일 이동\n",
    "for _, row in output_data1.iterrows():\n",
    "    shutil.copy(os.path.join(image_dir, row['image']), os.path.join(output_dir1, row['image']))\n",
    "    shutil.copy(os.path.join(label_dir, row['label']), os.path.join(output_dir1, row['label']))\n",
    "\n",
    "# 두 번째 폴더로 파일 이동\n",
    "for _, row in output_data2.iterrows():\n",
    "    shutil.copy(os.path.join(image_dir, row['image']), os.path.join(output_dir2, row['image']))\n",
    "    shutil.copy(os.path.join(label_dir, row['label']), os.path.join(output_dir2, row['label']))\n",
    "\n",
    "print(f\"데이터가 {output_dir1}와 {output_dir2}로 성공적으로 나뉘었습니다.\")"
   ]
  }
 ],
 "metadata": {
  "kernelspec": {
   "display_name": "Python 3 (ipykernel)",
   "language": "python",
   "name": "python3"
  },
  "language_info": {
   "codemirror_mode": {
    "name": "ipython",
    "version": 3
   },
   "file_extension": ".py",
   "mimetype": "text/x-python",
   "name": "python",
   "nbconvert_exporter": "python",
   "pygments_lexer": "ipython3",
   "version": "3.11.5"
  },
  "toc": {
   "base_numbering": 1,
   "nav_menu": {},
   "number_sections": true,
   "sideBar": true,
   "skip_h1_title": false,
   "title_cell": "Table of Contents",
   "title_sidebar": "Contents",
   "toc_cell": false,
   "toc_position": {},
   "toc_section_display": true,
   "toc_window_display": false
  }
 },
 "nbformat": 4,
 "nbformat_minor": 5
}
