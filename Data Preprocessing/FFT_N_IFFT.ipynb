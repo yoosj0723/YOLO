{
 "cells": [
  {
   "cell_type": "markdown",
   "metadata": {},
   "source": [
    "# 라이브러리 설치 및 import"
   ]
  },
  {
   "cell_type": "code",
   "execution_count": 1,
   "metadata": {},
   "outputs": [
    {
     "name": "stdout",
     "output_type": "stream",
     "text": [
      "Requirement already satisfied: numpy in c:\\users\\rund6\\appdata\\local\\anaconda3\\envs\\ysj\\lib\\site-packages (1.26.4)\n",
      "Requirement already satisfied: scipy in c:\\users\\rund6\\appdata\\roaming\\python\\python312\\site-packages (1.14.0)\n",
      "Requirement already satisfied: matplotlib in c:\\users\\rund6\\appdata\\roaming\\python\\python312\\site-packages (3.9.1)\n",
      "Requirement already satisfied: opencv-python in c:\\users\\rund6\\appdata\\roaming\\python\\python312\\site-packages (4.10.0.84)\n",
      "Requirement already satisfied: contourpy>=1.0.1 in c:\\users\\rund6\\appdata\\roaming\\python\\python312\\site-packages (from matplotlib) (1.2.1)\n",
      "Requirement already satisfied: cycler>=0.10 in c:\\users\\rund6\\appdata\\roaming\\python\\python312\\site-packages (from matplotlib) (0.12.1)\n",
      "Requirement already satisfied: fonttools>=4.22.0 in c:\\users\\rund6\\appdata\\roaming\\python\\python312\\site-packages (from matplotlib) (4.53.1)\n",
      "Requirement already satisfied: kiwisolver>=1.3.1 in c:\\users\\rund6\\appdata\\roaming\\python\\python312\\site-packages (from matplotlib) (1.4.5)\n",
      "Requirement already satisfied: packaging>=20.0 in c:\\users\\rund6\\appdata\\local\\anaconda3\\envs\\ysj\\lib\\site-packages (from matplotlib) (24.1)\n",
      "Requirement already satisfied: pillow>=8 in c:\\users\\rund6\\appdata\\local\\anaconda3\\envs\\ysj\\lib\\site-packages (from matplotlib) (10.4.0)\n",
      "Requirement already satisfied: pyparsing>=2.3.1 in c:\\users\\rund6\\appdata\\roaming\\python\\python312\\site-packages (from matplotlib) (3.1.2)\n",
      "Requirement already satisfied: python-dateutil>=2.7 in c:\\users\\rund6\\appdata\\local\\anaconda3\\envs\\ysj\\lib\\site-packages (from matplotlib) (2.9.0.post0)\n",
      "Requirement already satisfied: six>=1.5 in c:\\users\\rund6\\appdata\\local\\anaconda3\\envs\\ysj\\lib\\site-packages (from python-dateutil>=2.7->matplotlib) (1.16.0)\n",
      "Note: you may need to restart the kernel to use updated packages.\n"
     ]
    }
   ],
   "source": [
    "pip install numpy scipy matplotlib opencv-python"
   ]
  },
  {
   "cell_type": "code",
   "execution_count": 21,
   "metadata": {},
   "outputs": [],
   "source": [
    "import os\n",
    "import cv2\n",
    "import numpy as np\n",
    "import matplotlib.pyplot as plt\n",
    "from scipy.fft import fft2, ifft2, fftshift, ifftshift"
   ]
  },
  {
   "cell_type": "markdown",
   "metadata": {},
   "source": [
    "# 이미지 경로"
   ]
  },
  {
   "cell_type": "code",
   "execution_count": 22,
   "metadata": {},
   "outputs": [],
   "source": [
    "# 경로\n",
    "image_folder = \"\"\n",
    "output_folder = \"\""
   ]
  },
  {
   "cell_type": "markdown",
   "metadata": {},
   "source": [
    "# FFT"
   ]
  },
  {
   "cell_type": "code",
   "execution_count": 23,
   "metadata": {},
   "outputs": [],
   "source": [
    "def apply_fft(image):\n",
    "    f_transform = fft2(image)\n",
    "    f_transform_shifted = fftshift(f_transform)\n",
    "    magnitude_spectrum = 20 * np.log(np.abs(f_transform_shifted) + 1)\n",
    "    return f_transform_shifted, magnitude_spectrum"
   ]
  },
  {
   "cell_type": "markdown",
   "metadata": {},
   "source": [
    "# Notch Filter적용"
   ]
  },
  {
   "cell_type": "markdown",
   "metadata": {},
   "source": [
    "## 노이즈 중심 좌표 자동 탐지"
   ]
  },
  {
   "cell_type": "code",
   "execution_count": 24,
   "metadata": {},
   "outputs": [],
   "source": [
    "def find_noise_centers(magnitude_spectrum, threshold_factor=2):\n",
    "    mean_val = np.mean(magnitude_spectrum)\n",
    "    threshold = threshold_factor * mean_val\n",
    "    noise_positions = np.where(magnitude_spectrum > threshold)\n",
    "\n",
    "    rows, cols = magnitude_spectrum.shape\n",
    "    crow, ccol = rows // 2, cols // 2\n",
    "\n",
    "    centers = []\n",
    "    for r, c in zip(noise_positions[0], noise_positions[1]):\n",
    "        if abs(r - crow) > 10 or abs(c - ccol) > 10:\n",
    "            centers.append((c, r))\n",
    "    \n",
    "    return centers"
   ]
  },
  {
   "cell_type": "markdown",
   "metadata": {},
   "source": [
    "## 다중 Notch Filter 적용함수"
   ]
  },
  {
   "cell_type": "code",
   "execution_count": 25,
   "metadata": {},
   "outputs": [],
   "source": [
    "def apply_multi_notch_filter(f_transform_shifted, centers, notch_radius=20):\n",
    "    rows, cols = f_transform_shifted.shape\n",
    "    notch_filter = np.ones((rows, cols), np.uint8)\n",
    "    \n",
    "    for center in centers:\n",
    "        cv2.circle(notch_filter, center, notch_radius, 0, thickness=-1)\n",
    "    \n",
    "    filtered_transform_shifted = f_transform_shifted * notch_filter\n",
    "    return filtered_transform_shifted"
   ]
  },
  {
   "cell_type": "markdown",
   "metadata": {},
   "source": [
    "# IFFT"
   ]
  },
  {
   "cell_type": "code",
   "execution_count": 26,
   "metadata": {},
   "outputs": [],
   "source": [
    "def apply_ifft(filtered_transform_shifted):\n",
    "    f_transform_filtered = ifftshift(filtered_transform_shifted)\n",
    "    image_filtered = ifft2(f_transform_filtered)\n",
    "    image_filtered = np.abs(image_filtered)\n",
    "    return image_filtered"
   ]
  },
  {
   "cell_type": "markdown",
   "metadata": {},
   "source": [
    "# 컬러이미지 처리"
   ]
  },
  {
   "cell_type": "code",
   "execution_count": 29,
   "metadata": {},
   "outputs": [],
   "source": [
    "def process_color_image(image, notch_radius=20, threshold_factor=2):\n",
    "    # BGR 채널 분리\n",
    "    channels = cv2.split(image)\n",
    "    \n",
    "    filtered_channels = []\n",
    "    \n",
    "    for channel in channels:\n",
    "        # FFT 적용\n",
    "        f_transform_shifted, magnitude_spectrum = apply_fft(channel)\n",
    "        \n",
    "        # 노이즈 중심 좌표 자동 탐지\n",
    "        noise_centers = find_noise_centers(magnitude_spectrum, threshold_factor)\n",
    "        \n",
    "        # 다중 Notch Filter 적용\n",
    "        filtered_transform_shifted = apply_multi_notch_filter(f_transform_shifted, noise_centers, notch_radius)\n",
    "        \n",
    "        # Inverse FFT 적용\n",
    "        filtered_channel = apply_ifft(filtered_transform_shifted)\n",
    "        filtered_channels.append(filtered_channel)\n",
    "    \n",
    "    # 필터링된 채널 합치기 (BGR 순서로)\n",
    "    filtered_image = cv2.merge(filtered_channels)\n",
    "    \n",
    "    return filtered_image"
   ]
  },
  {
   "cell_type": "markdown",
   "metadata": {},
   "source": [
    "# 실행"
   ]
  },
  {
   "cell_type": "code",
   "execution_count": 39,
   "metadata": {},
   "outputs": [],
   "source": [
    "def process_all_images_in_folder(folder_path, output_folder, notch_radius=20, threshold_factor=2):\n",
    "    for filename in os.listdir(folder_path):\n",
    "        if filename.endswith(('.png', '.jpg', '.jpeg', '.bmp', '.tiff')):\n",
    "            file_path = os.path.join(folder_path, filename)\n",
    "            \n",
    "            # 이미지 불러오기 (컬러로 불러오기)\n",
    "            image = cv2.imread(file_path)\n",
    "            \n",
    "            filtered_image = process_color_image(image, notch_radius, threshold_factor)\n",
    "            \n",
    "            # 결과 이미지 저장\n",
    "            filtered_image_path = os.path.join(output_folder, f\"filtered_{filename}\")\n",
    "            cv2.imwrite(filtered_image_path, filtered_image.astype(np.uint8))  # 필터링 결과 저장\n",
    "\n",
    "\n",
    "process_all_images_in_folder(image_folder, output_folder, notch_radius=15, threshold_factor=2.5)"
   ]
  }
 ],
 "metadata": {
  "kernelspec": {
   "display_name": "ysj",
   "language": "python",
   "name": "ysj"
  },
  "language_info": {
   "codemirror_mode": {
    "name": "ipython",
    "version": 3
   },
   "file_extension": ".py",
   "mimetype": "text/x-python",
   "name": "python",
   "nbconvert_exporter": "python",
   "pygments_lexer": "ipython3",
   "version": "3.12.4"
  }
 },
 "nbformat": 4,
 "nbformat_minor": 2
}
