{
 "cells": [
  {
   "cell_type": "code",
   "execution_count": 9,
   "id": "76bfe864",
   "metadata": {},
   "outputs": [
    {
     "name": "stdout",
     "output_type": "stream",
     "text": [
      "Collecting opencv-python\n",
      "  Obtaining dependency information for opencv-python from https://files.pythonhosted.org/packages/ec/6c/fab8113424af5049f85717e8e527ca3773299a3c6b02506e66436e19874f/opencv_python-4.10.0.84-cp37-abi3-win_amd64.whl.metadata\n",
      "  Downloading opencv_python-4.10.0.84-cp37-abi3-win_amd64.whl.metadata (20 kB)\n",
      "Requirement already satisfied: numpy>=1.21.2 in c:\\users\\rund6\\appdata\\local\\anaconda3\\lib\\site-packages (from opencv-python) (1.24.3)\n",
      "Downloading opencv_python-4.10.0.84-cp37-abi3-win_amd64.whl (38.8 MB)\n",
      "   ---------------------------------------- 0.0/38.8 MB ? eta -:--:--\n",
      "   ---------------------------------------- 0.2/38.8 MB 5.0 MB/s eta 0:00:08\n",
      "    --------------------------------------- 0.8/38.8 MB 8.1 MB/s eta 0:00:05\n",
      "   - -------------------------------------- 1.3/38.8 MB 9.2 MB/s eta 0:00:05\n",
      "   - -------------------------------------- 1.9/38.8 MB 9.9 MB/s eta 0:00:04\n",
      "   -- ------------------------------------- 2.4/38.8 MB 10.3 MB/s eta 0:00:04\n",
      "   --- ------------------------------------ 3.0/38.8 MB 10.6 MB/s eta 0:00:04\n",
      "   --- ------------------------------------ 3.5/38.8 MB 10.7 MB/s eta 0:00:04\n",
      "   ---- ----------------------------------- 4.1/38.8 MB 10.8 MB/s eta 0:00:04\n",
      "   ---- ----------------------------------- 4.6/38.8 MB 11.3 MB/s eta 0:00:04\n",
      "   ----- ---------------------------------- 5.1/38.8 MB 11.3 MB/s eta 0:00:03\n",
      "   ----- ---------------------------------- 5.7/38.8 MB 11.3 MB/s eta 0:00:03\n",
      "   ------ --------------------------------- 6.2/38.8 MB 11.3 MB/s eta 0:00:03\n",
      "   ------ --------------------------------- 6.8/38.8 MB 11.4 MB/s eta 0:00:03\n",
      "   ------- -------------------------------- 7.3/38.8 MB 11.4 MB/s eta 0:00:03\n",
      "   -------- ------------------------------- 7.9/38.8 MB 11.4 MB/s eta 0:00:03\n",
      "   -------- ------------------------------- 8.4/38.8 MB 11.4 MB/s eta 0:00:03\n",
      "   --------- ------------------------------ 8.9/38.8 MB 11.4 MB/s eta 0:00:03\n",
      "   --------- ------------------------------ 9.5/38.8 MB 11.4 MB/s eta 0:00:03\n",
      "   ---------- ----------------------------- 10.0/38.8 MB 11.4 MB/s eta 0:00:03\n",
      "   ---------- ----------------------------- 10.6/38.8 MB 11.7 MB/s eta 0:00:03\n",
      "   ----------- ---------------------------- 11.1/38.8 MB 11.7 MB/s eta 0:00:03\n",
      "   ----------- ---------------------------- 11.6/38.8 MB 11.9 MB/s eta 0:00:03\n",
      "   ------------ --------------------------- 12.2/38.8 MB 11.7 MB/s eta 0:00:03\n",
      "   ------------- -------------------------- 12.7/38.8 MB 11.9 MB/s eta 0:00:03\n",
      "   ------------- -------------------------- 13.3/38.8 MB 11.9 MB/s eta 0:00:03\n",
      "   -------------- ------------------------- 13.8/38.8 MB 11.9 MB/s eta 0:00:03\n",
      "   -------------- ------------------------- 14.0/38.8 MB 11.5 MB/s eta 0:00:03\n",
      "   -------------- ------------------------- 14.2/38.8 MB 11.1 MB/s eta 0:00:03\n",
      "   --------------- ------------------------ 14.8/38.8 MB 11.1 MB/s eta 0:00:03\n",
      "   --------------- ------------------------ 15.3/38.8 MB 11.1 MB/s eta 0:00:03\n",
      "   ---------------- ----------------------- 15.9/38.8 MB 11.1 MB/s eta 0:00:03\n",
      "   ---------------- ----------------------- 16.4/38.8 MB 11.1 MB/s eta 0:00:03\n",
      "   ----------------- ---------------------- 16.9/38.8 MB 11.1 MB/s eta 0:00:02\n",
      "   ------------------ --------------------- 17.5/38.8 MB 11.1 MB/s eta 0:00:02\n",
      "   ------------------ --------------------- 18.0/38.8 MB 11.1 MB/s eta 0:00:02\n",
      "   ------------------- -------------------- 18.6/38.8 MB 11.1 MB/s eta 0:00:02\n",
      "   ------------------- -------------------- 19.1/38.8 MB 11.1 MB/s eta 0:00:02\n",
      "   -------------------- ------------------- 19.6/38.8 MB 11.1 MB/s eta 0:00:02\n",
      "   -------------------- ------------------- 20.2/38.8 MB 11.1 MB/s eta 0:00:02\n",
      "   --------------------- ------------------ 20.7/38.8 MB 11.1 MB/s eta 0:00:02\n",
      "   --------------------- ------------------ 21.3/38.8 MB 11.1 MB/s eta 0:00:02\n",
      "   ---------------------- ----------------- 21.8/38.8 MB 11.1 MB/s eta 0:00:02\n",
      "   ----------------------- ---------------- 22.3/38.8 MB 11.1 MB/s eta 0:00:02\n",
      "   ----------------------- ---------------- 22.9/38.8 MB 11.1 MB/s eta 0:00:02\n",
      "   ------------------------ --------------- 23.4/38.8 MB 11.1 MB/s eta 0:00:02\n",
      "   ------------------------ --------------- 23.8/38.8 MB 11.1 MB/s eta 0:00:02\n",
      "   ------------------------- -------------- 24.4/38.8 MB 11.7 MB/s eta 0:00:02\n",
      "   ------------------------- -------------- 24.9/38.8 MB 11.7 MB/s eta 0:00:02\n",
      "   -------------------------- ------------- 25.5/38.8 MB 11.7 MB/s eta 0:00:02\n",
      "   -------------------------- ------------- 26.0/38.8 MB 11.7 MB/s eta 0:00:02\n",
      "   --------------------------- ------------ 26.6/38.8 MB 11.7 MB/s eta 0:00:02\n",
      "   --------------------------- ------------ 27.1/38.8 MB 11.7 MB/s eta 0:00:02\n",
      "   ---------------------------- ----------- 27.6/38.8 MB 11.7 MB/s eta 0:00:01\n",
      "   ----------------------------- ---------- 28.2/38.8 MB 11.9 MB/s eta 0:00:01\n",
      "   ----------------------------- ---------- 28.7/38.8 MB 11.7 MB/s eta 0:00:01\n",
      "   ------------------------------ --------- 29.1/38.8 MB 11.7 MB/s eta 0:00:01\n",
      "   ------------------------------ --------- 29.8/38.8 MB 11.7 MB/s eta 0:00:01\n",
      "   ------------------------------- -------- 30.3/38.8 MB 11.7 MB/s eta 0:00:01\n",
      "   ------------------------------- -------- 30.9/38.8 MB 11.7 MB/s eta 0:00:01\n",
      "   -------------------------------- ------- 31.4/38.8 MB 11.7 MB/s eta 0:00:01\n",
      "   -------------------------------- ------- 32.0/38.8 MB 11.7 MB/s eta 0:00:01\n",
      "   --------------------------------- ------ 32.5/38.8 MB 11.7 MB/s eta 0:00:01\n",
      "   ---------------------------------- ----- 33.0/38.8 MB 11.7 MB/s eta 0:00:01\n",
      "   ---------------------------------- ----- 33.6/38.8 MB 11.7 MB/s eta 0:00:01\n",
      "   ----------------------------------- ---- 34.1/38.8 MB 11.9 MB/s eta 0:00:01\n",
      "   ----------------------------------- ---- 34.4/38.8 MB 11.5 MB/s eta 0:00:01\n",
      "   ----------------------------------- ---- 34.6/38.8 MB 11.1 MB/s eta 0:00:01\n",
      "   ------------------------------------ --- 35.1/38.8 MB 11.1 MB/s eta 0:00:01\n",
      "   ------------------------------------ --- 35.5/38.8 MB 10.9 MB/s eta 0:00:01\n",
      "   ------------------------------------ --- 35.5/38.8 MB 10.6 MB/s eta 0:00:01\n",
      "   ------------------------------------- -- 36.0/38.8 MB 10.2 MB/s eta 0:00:01\n",
      "   ------------------------------------- -- 36.5/38.8 MB 10.2 MB/s eta 0:00:01\n",
      "   -------------------------------------- - 37.1/38.8 MB 10.4 MB/s eta 0:00:01\n",
      "   -------------------------------------- - 37.6/38.8 MB 10.4 MB/s eta 0:00:01\n",
      "   ---------------------------------------  38.2/38.8 MB 10.4 MB/s eta 0:00:01\n",
      "   ---------------------------------------  38.7/38.8 MB 10.4 MB/s eta 0:00:01\n",
      "   ---------------------------------------  38.8/38.8 MB 10.4 MB/s eta 0:00:01\n",
      "   ---------------------------------------  38.8/38.8 MB 10.4 MB/s eta 0:00:01\n",
      "   ---------------------------------------  38.8/38.8 MB 10.4 MB/s eta 0:00:01\n",
      "   ---------------------------------------- 38.8/38.8 MB 9.1 MB/s eta 0:00:00\n",
      "Installing collected packages: opencv-python\n",
      "Successfully installed opencv-python-4.10.0.84\n"
     ]
    }
   ],
   "source": [
    "!pip install opencv-python"
   ]
  },
  {
   "cell_type": "markdown",
   "id": "738aa547",
   "metadata": {},
   "source": [
    "# import"
   ]
  },
  {
   "cell_type": "code",
   "execution_count": null,
   "id": "bb27f06a",
   "metadata": {},
   "outputs": [],
   "source": [
    "import cv2\n",
    "import numpy as np\n",
    "import os"
   ]
  },
  {
   "cell_type": "markdown",
   "id": "2edc30ef",
   "metadata": {},
   "source": [
    "# 경로 설정"
   ]
  },
  {
   "cell_type": "code",
   "execution_count": null,
   "id": "925c2337",
   "metadata": {},
   "outputs": [],
   "source": [
    "# 예제 경로 설정 \n",
    "label_file_path = \"\"\n",
    "image_path = \"\"\n",
    "output_path = \"\""
   ]
  },
  {
   "cell_type": "markdown",
   "id": "2f0b634c",
   "metadata": {},
   "source": [
    "# format 변환 1: 바운딩박스=>행렬"
   ]
  },
  {
   "cell_type": "code",
   "execution_count": 3,
   "id": "5b873d34",
   "metadata": {},
   "outputs": [],
   "source": [
    "def read_bounding_boxes(label_file_path):\n",
    "    bounding_boxes = []\n",
    "\n",
    "    # 파일 읽기\n",
    "    with open(label_file_path, 'r') as file:\n",
    "        for line in file:\n",
    "            # 각 줄에서 첫 번째 숫자(클래스 번호)는 무시하고 나머지 네 개의 숫자를 읽음\n",
    "            try:\n",
    "                _, x_center, y_center, width, height = map(float, line.strip().split())\n",
    "                bounding_boxes.append((x_center, y_center, width, height))  # 튜플로 추가\n",
    "            except ValueError:\n",
    "                print(f\"라인 '{line.strip()}'을(를) 읽는 중 오류가 발생했습니다.\")\n",
    "    \n",
    "    # 바운딩 박스가 하나만 있을 경우, 단일 튜플로 반환\n",
    "    if len(bounding_boxes) == 1:\n",
    "        return bounding_boxes[0]\n",
    "    else:\n",
    "        return np.array(bounding_boxes)"
   ]
  },
  {
   "cell_type": "markdown",
   "id": "f83a8030",
   "metadata": {},
   "source": [
    "# format 변환 2: YOLO->openCV로 바꾸기"
   ]
  },
  {
   "cell_type": "code",
   "execution_count": 4,
   "id": "79bfeccd",
   "metadata": {},
   "outputs": [],
   "source": [
    "def convert_yolo_to_opencv(bbox, img_width, img_height):\n",
    "    x_center, y_center, width, height = bbox\n",
    "    x = int((x_center - width / 2) * img_width)\n",
    "    y = int((y_center - height / 2) * img_height)\n",
    "    width = int(width * img_width)\n",
    "    height = int(height * img_height)\n",
    "    return (x, y, width, height)"
   ]
  },
  {
   "cell_type": "code",
   "execution_count": 30,
   "id": "996e52b4",
   "metadata": {},
   "outputs": [
    {
     "name": "stdout",
     "output_type": "stream",
     "text": [
      "(316, 447, 553, 648)\n"
     ]
    }
   ],
   "source": [
    "def output_opencvBB(label_file_path, image_path):\n",
    "\n",
    "    # 이미지 로드 및 크기 확인\n",
    "    image = cv2.imread(image_path)\n",
    "    img_height, img_width = image.shape[:2]\n",
    "\n",
    "    # 바운딩 박스 읽기\n",
    "    bounding_boxes = read_bounding_boxes(label_file_path)\n",
    "\n",
    "    # YOLO 형식 바운딩 박스를 OpenCV 형식으로 변환\n",
    "    opencv_bounding_boxes = []\n",
    "    if isinstance(bounding_boxes, tuple):\n",
    "        # 바운딩 박스가 하나만 있을 경우\n",
    "        opencv_bounding_boxes.append(convert_yolo_to_opencv(bounding_boxes, img_width, img_height))\n",
    "    else:\n",
    "        # 여러 바운딩 박스가 있을 경우\n",
    "        for bbox in bounding_boxes:\n",
    "            opencv_bounding_boxes.append(convert_yolo_to_opencv(bbox, img_width, img_height))\n",
    "\n",
    "    opencv_bounding_boxes = opencv_bounding_boxes[0]\n",
    "    # 결과 출력\n",
    "    print(opencv_bounding_boxes)\n",
    "    return opencv_bounding_boxes"
   ]
  },
  {
   "cell_type": "markdown",
   "id": "a83f9c1e",
   "metadata": {},
   "source": [
    "# Grab Cut\n",
    "\n",
    "image = cv2.imread(image_path) 경로 설정 시 파일명 한글 x"
   ]
  },
  {
   "cell_type": "code",
   "execution_count": 31,
   "id": "7bfbc130",
   "metadata": {},
   "outputs": [
    {
     "name": "stdout",
     "output_type": "stream",
     "text": [
      "GrabCut 결과 이미지가 C:/Users/rund6/Desktop/Augmentation/gc\\grabcut_result5.jpg에 저장되었습니다.\n"
     ]
    }
   ],
   "source": [
    "def grabcut():\n",
    "    # 이미지 로드\n",
    "    image = cv2.imread(image_path,output_path, opencv_bounding_boxes)\n",
    "\n",
    "    # 초기 마스크 설정\n",
    "    mask = np.zeros(image.shape[:2], np.uint8)\n",
    "\n",
    "    # GrabCut을 위한 임시 배열\n",
    "    bgd_model = np.zeros((1, 65), np.float64)\n",
    "    fgd_model = np.zeros((1, 65), np.float64)\n",
    "\n",
    "    # 바운딩 박스 설정 (x, y, width, height)\n",
    "    # 예시 바운딩 박스. 필요에 따라 수정해야 합니다.\n",
    "    rect = opencv_bounding_boxes\n",
    "\n",
    "    # GrabCut 알고리즘 실행\n",
    "    cv2.grabCut(image, mask, rect, bgd_model, fgd_model, 5, cv2.GC_INIT_WITH_RECT)\n",
    "\n",
    "    # 마스크를 통해 확실한 전경과 배경을 설정\n",
    "    mask2 = np.where((mask == 2) | (mask == 0), 0, 1).astype('uint8')\n",
    "\n",
    "    # 원본 이미지와 마스크를 사용해 전경 추출\n",
    "    image_cut = image * mask2[:, :, np.newaxis]\n",
    "\n",
    "    # 결과 이미지 저장 (RGB 형식을 BGR 형식으로 변환하여 저장)\n",
    "    cv2.imwrite(output_path, image_cut)\n",
    "\n",
    "    print(f\"GrabCut 결과 이미지가 {output_path}에 저장되었습니다.\")"
   ]
  }
 ],
 "metadata": {
  "kernelspec": {
   "display_name": "venv_YOLO",
   "language": "python",
   "name": "venv_yolo"
  },
  "language_info": {
   "codemirror_mode": {
    "name": "ipython",
    "version": 3
   },
   "file_extension": ".py",
   "mimetype": "text/x-python",
   "name": "python",
   "nbconvert_exporter": "python",
   "pygments_lexer": "ipython3",
   "version": "3.11.7"
  },
  "toc": {
   "base_numbering": 1,
   "nav_menu": {},
   "number_sections": true,
   "sideBar": true,
   "skip_h1_title": false,
   "title_cell": "Table of Contents",
   "title_sidebar": "Contents",
   "toc_cell": false,
   "toc_position": {},
   "toc_section_display": true,
   "toc_window_display": false
  }
 },
 "nbformat": 4,
 "nbformat_minor": 5
}
