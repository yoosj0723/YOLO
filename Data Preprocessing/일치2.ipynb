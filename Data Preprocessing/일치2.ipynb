{
 "cells": [
  {
   "cell_type": "code",
   "execution_count": 1,
   "id": "d94e77d6",
   "metadata": {},
   "outputs": [],
   "source": [
    "import os\n",
    "import shutil"
   ]
  },
  {
   "cell_type": "code",
   "execution_count": 3,
   "id": "f2c030fa",
   "metadata": {},
   "outputs": [
    {
     "name": "stdout",
     "output_type": "stream",
     "text": [
      "일치한 파일을 C:/Users/rund6/Desktop/일치한 라벨링와 C:/Users/rund6/Desktop/일치한 이미지로 이동했습니다.\n"
     ]
    }
   ],
   "source": [
    "# 경로 설정\n",
    "label_folder = 'C:/Users/rund6/Desktop/라벨링'\n",
    "image_folder = 'C:/Users/rund6/Desktop/이미지'\n",
    "matched_label_folder = 'C:/Users/rund6/Desktop/일치한 라벨링'\n",
    "matched_image_folder = 'C:/Users/rund6/Desktop/일치한 이미지'\n",
    "\n",
    "# 폴더가 없는 경우 생성\n",
    "os.makedirs(matched_label_folder, exist_ok=True)\n",
    "os.makedirs(matched_image_folder, exist_ok=True)\n",
    "\n",
    "# 파일 목록 가져오기\n",
    "label_files = set(f for f in os.listdir(label_folder) if f.endswith('.txt'))\n",
    "image_files = set(f for f in os.listdir(image_folder) if f.endswith('.png'))\n",
    "\n",
    "# 파일 이름에서 확장자 제거\n",
    "label_names = {os.path.splitext(f)[0] for f in label_files}\n",
    "image_names = {os.path.splitext(f)[0] for f in image_files}\n",
    "\n",
    "# 일치하는 파일 찾기\n",
    "matching_names = label_names.intersection(image_names)\n",
    "\n",
    "# 일치하는 파일을 새 폴더로 이동\n",
    "for name in matching_names:\n",
    "    label_file = os.path.join(label_folder, name + '.txt')\n",
    "    image_file = os.path.join(image_folder, name + '.png')\n",
    "    \n",
    "    shutil.move(label_file, os.path.join(matched_label_folder, name + '.txt'))\n",
    "    shutil.move(image_file, os.path.join(matched_image_folder, name + '.png'))\n",
    "\n",
    "print(f\"일치한 파일을 {matched_label_folder}와 {matched_image_folder}로 이동했습니다.\")"
   ]
  }
 ],
 "metadata": {
  "kernelspec": {
   "display_name": "Python 3 (ipykernel)",
   "language": "python",
   "name": "python3"
  },
  "language_info": {
   "codemirror_mode": {
    "name": "ipython",
    "version": 3
   },
   "file_extension": ".py",
   "mimetype": "text/x-python",
   "name": "python",
   "nbconvert_exporter": "python",
   "pygments_lexer": "ipython3",
   "version": "3.11.5"
  },
  "toc": {
   "base_numbering": 1,
   "nav_menu": {},
   "number_sections": true,
   "sideBar": true,
   "skip_h1_title": false,
   "title_cell": "Table of Contents",
   "title_sidebar": "Contents",
   "toc_cell": false,
   "toc_position": {},
   "toc_section_display": true,
   "toc_window_display": false
  }
 },
 "nbformat": 4,
 "nbformat_minor": 5
}
